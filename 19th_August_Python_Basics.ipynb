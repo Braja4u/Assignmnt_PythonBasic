{
 "cells": [
  {
   "cell_type": "code",
   "execution_count": 1,
   "id": "cbe326e7-6379-47df-91bc-9a1a689caa94",
   "metadata": {},
   "outputs": [],
   "source": [
    "# Python Basic Assignment >>>>>>>>>>>>>>>>>>>>>>>>>>>>>>>>>>>>>>>>>>>>>>>>>>>>>>>>>>>>>>>>>>>>>>>>>>>>>>>>>>>>>>>>\n",
    "\n",
    "# TOPIC: Python Basics Variable"
   ]
  },
  {
   "cell_type": "code",
   "execution_count": 2,
   "id": "d60977de-4731-45bb-ab78-435f4eacc940",
   "metadata": {},
   "outputs": [
    {
     "data": {
      "text/plain": [
       "(7, 5)"
      ]
     },
     "execution_count": 2,
     "metadata": {},
     "output_type": "execute_result"
    }
   ],
   "source": [
    "# Qus1. Swapping ...................................................................................................\n",
    "\n",
    "x,y = (5,7)\n",
    "\n",
    "x = x+y  #x=12\n",
    "y = x-y  #y=5\n",
    "x = x-y  #x=7\n",
    "\n",
    "#Ater swapping\n",
    "x , y"
   ]
  },
  {
   "cell_type": "code",
   "execution_count": 3,
   "id": "47a7e8be-f977-4d72-a9a7-5f0fe4c4cce5",
   "metadata": {},
   "outputs": [
    {
     "name": "stdin",
     "output_type": "stream",
     "text": [
      "length:  3.45\n",
      "breadth:  4.66\n"
     ]
    },
    {
     "name": "stdout",
     "output_type": "stream",
     "text": [
      "Area of a Rectangle is: 16.08\n"
     ]
    }
   ],
   "source": [
    "# Que2. Area of a Rectangle ...........................................................................................\n",
    "\n",
    "l = float(input('length: '))\n",
    "b = float(input('breadth: '))\n",
    "Area = l * b\n",
    "print(\"Area of a Rectangle is: %.2f\" %Area)"
   ]
  },
  {
   "cell_type": "code",
   "execution_count": 4,
   "id": "4708ca59-a387-422e-8142-f01f433a3bf4",
   "metadata": {},
   "outputs": [
    {
     "name": "stdin",
     "output_type": "stream",
     "text": [
      "celcius: 44.6\n"
     ]
    },
    {
     "name": "stdout",
     "output_type": "stream",
     "text": [
      "44.60 Celsius is equivalent to: 112.28 Fahrenheit\n"
     ]
    }
   ],
   "source": [
    "# Que3. temperatures from Celsius to Fahrenheit ........................................................................\n",
    "\n",
    "# temp. in celsius degree\n",
    "celsius = float(input('celcius:'))\n",
    " \n",
    "# Converting temp.\n",
    "fahrenheit = (celsius * 1.8) + 32\n",
    "\n",
    "# result\n",
    "print('%.2f Celsius is equivalent to: %.2f Fahrenheit' % (celsius, fahrenheit))"
   ]
  },
  {
   "cell_type": "code",
   "execution_count": 5,
   "id": "85edb5aa-1417-4f48-a671-71d9df84ac93",
   "metadata": {},
   "outputs": [
    {
     "name": "stdin",
     "output_type": "stream",
     "text": [
      "any string: abcd10\n"
     ]
    },
    {
     "name": "stdout",
     "output_type": "stream",
     "text": [
      "length of the string: 6\n"
     ]
    }
   ],
   "source": [
    "# TOPIC: String Based Questions >>>>>>>>>>>>>>>>>>>>>>>>>>>>>>>>>>>>>>>>>>>>>>>>>>>>>>>>>>>>>>>>>>>>>>>>>>>>>>>>>>>>>>>>>\n",
    "\n",
    "# Que1. takes a string as input and prints the length of the string .....................................................\n",
    "\n",
    "userinput = str(input('any string:'))\n",
    "\n",
    "length = len(userinput)\n",
    "print('length of the string:' ,length)"
   ]
  },
  {
   "cell_type": "code",
   "execution_count": 7,
   "id": "5aa9b6f1-cd5a-459c-bc12-50961d0fd157",
   "metadata": {},
   "outputs": [
    {
     "name": "stdin",
     "output_type": "stream",
     "text": [
      "any string: AVSDWQ\n"
     ]
    },
    {
     "name": "stdout",
     "output_type": "stream",
     "text": [
      "no. of vowels: 1\n"
     ]
    }
   ],
   "source": [
    "# Que2. takes a sentence from the user and counts the number of vowels ....................................................\n",
    "\n",
    "userinput = str(input('any string:'))\n",
    "vowels = \"aeiouAEIOU\"\n",
    "\n",
    "count = sum(userinput.count(vowel) for vowel in vowels)\n",
    "print('no. of vowels:' ,count)"
   ]
  },
  {
   "cell_type": "code",
   "execution_count": 9,
   "id": "a8c2e9c0-33c8-485d-983f-fa31db72a47a",
   "metadata": {},
   "outputs": [
    {
     "data": {
      "text/plain": [
       "'sllikswp'"
      ]
     },
     "execution_count": 9,
     "metadata": {},
     "output_type": "execute_result"
    }
   ],
   "source": [
    "# Que3. print the reversed string ..........................................................................................\n",
    "\n",
    "a=\"pwskills\"\n",
    "a[::-1]"
   ]
  },
  {
   "cell_type": "code",
   "execution_count": 11,
   "id": "fdd7be54-45ab-4b59-9381-26ca4ae0529d",
   "metadata": {},
   "outputs": [
    {
     "name": "stdin",
     "output_type": "stream",
     "text": [
      "Enter a letter: ABCD\n"
     ]
    },
    {
     "name": "stdout",
     "output_type": "stream",
     "text": [
      "The letter is not a palindrome\n"
     ]
    }
   ],
   "source": [
    "# Que4. check palindrome \n",
    "\n",
    "string=input((\"Enter a letter:\"))  \n",
    "if(string==string[::-1]):  \n",
    "      print(\"The letter is a palindrome\")  \n",
    "else:  \n",
    "      print(\"The letter is not a palindrome\") "
   ]
  },
  {
   "cell_type": "code",
   "execution_count": 12,
   "id": "9a545c21-d1e2-4012-a549-443d787f5657",
   "metadata": {},
   "outputs": [
    {
     "name": "stdin",
     "output_type": "stream",
     "text": [
      "any string: and sndfd  amsdw weew wfeew   ewrweew\n"
     ]
    },
    {
     "name": "stdout",
     "output_type": "stream",
     "text": [
      "andsndfdamsdwweewwfeewewrweew\n"
     ]
    }
   ],
   "source": [
    "# Que5. takes a string as input and removes all the spaces\n",
    "\n",
    "def remove(string):\n",
    "    return string.replace(\" \", \"\")\n",
    "\n",
    "userinput = str(input('any string:'))\n",
    "print(remove(userinput))"
   ]
  }
 ],
 "metadata": {
  "kernelspec": {
   "display_name": "Python 3 (ipykernel)",
   "language": "python",
   "name": "python3"
  },
  "language_info": {
   "codemirror_mode": {
    "name": "ipython",
    "version": 3
   },
   "file_extension": ".py",
   "mimetype": "text/x-python",
   "name": "python",
   "nbconvert_exporter": "python",
   "pygments_lexer": "ipython3",
   "version": "3.10.8"
  }
 },
 "nbformat": 4,
 "nbformat_minor": 5
}
